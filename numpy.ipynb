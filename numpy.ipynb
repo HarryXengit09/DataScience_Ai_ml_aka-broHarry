{
 "cells": [
  {
   "cell_type": "code",
   "execution_count": 610,
   "id": "849818a6-1ff7-4780-8668-0278c6393997",
   "metadata": {},
   "outputs": [],
   "source": [
    "## From here we're going to learnt about numpy library in python . "
   ]
  },
  {
   "cell_type": "code",
   "execution_count": 611,
   "id": "e25d7c3f-1caf-4e00-a8b4-2fd5608b8b4d",
   "metadata": {},
   "outputs": [],
   "source": [
    "import numpy as np"
   ]
  },
  {
   "cell_type": "code",
   "execution_count": 612,
   "id": "f6d764b8-0f39-441c-a365-275c8615b984",
   "metadata": {},
   "outputs": [],
   "source": [
    "numpyArr = np.array([(23,34,564,57,12)],np.int64)"
   ]
  },
  {
   "cell_type": "code",
   "execution_count": 613,
   "id": "56a94bf1-a133-4d81-934f-1c1cd2a7d2e3",
   "metadata": {},
   "outputs": [
    {
     "name": "stdout",
     "output_type": "stream",
     "text": [
      "57\n"
     ]
    }
   ],
   "source": [
    "print(numpyArr[0,3]) ## Here , we prints the first row and the 4th column \n",
    "                    ## This is an one dimn arr. "
   ]
  },
  {
   "cell_type": "code",
   "execution_count": 614,
   "id": "6c740f30-3938-495e-a904-c664e3e78321",
   "metadata": {},
   "outputs": [
    {
     "data": {
      "text/plain": [
       "(1, 5)"
      ]
     },
     "execution_count": 614,
     "metadata": {},
     "output_type": "execute_result"
    }
   ],
   "source": [
    "numpyArr.shape"
   ]
  },
  {
   "cell_type": "code",
   "execution_count": 615,
   "id": "52e3540e-3be5-4388-9566-21fea4a2acb1",
   "metadata": {},
   "outputs": [
    {
     "data": {
      "text/plain": [
       "5"
      ]
     },
     "execution_count": 615,
     "metadata": {},
     "output_type": "execute_result"
    }
   ],
   "source": [
    "numpyArr.size"
   ]
  },
  {
   "cell_type": "markdown",
   "id": "b98cf58e-b114-4bb8-b5f5-b6c11e30a781",
   "metadata": {},
   "source": [
    "## Array Creation Methods by using Numpy !!"
   ]
  },
  {
   "cell_type": "code",
   "execution_count": 616,
   "id": "9ab99973-34bc-4733-bbb3-4301ab2b00d2",
   "metadata": {},
   "outputs": [],
   "source": [
    "myArr = np.array([[12,234,45], [\"Kashish\" , \"Hirak\" , \"Sanu\"]]) ## This is an 2-D arr. It has 2 rows and 3 columns "
   ]
  },
  {
   "cell_type": "code",
   "execution_count": 617,
   "id": "a501e8e6-a61d-43c3-a38e-058e6936897c",
   "metadata": {},
   "outputs": [
    {
     "name": "stdout",
     "output_type": "stream",
     "text": [
      "Kashish meets Hirak\n"
     ]
    }
   ],
   "source": [
    "print(myArr[1,0] + \" meets \" + myArr[1,1])"
   ]
  },
  {
   "cell_type": "code",
   "execution_count": 618,
   "id": "495f5ca6-9aea-45ce-87fb-13f6e61a3e9d",
   "metadata": {},
   "outputs": [
    {
     "data": {
      "text/plain": [
       "(2, 3)"
      ]
     },
     "execution_count": 618,
     "metadata": {},
     "output_type": "execute_result"
    }
   ],
   "source": [
    "myArr.shape"
   ]
  },
  {
   "cell_type": "raw",
   "id": "1deedb66-34cb-4f88-80aa-b29abf9a26cb",
   "metadata": {},
   "source": [
    "## Zeroth Method -> It made an matrix of (n , m) elements of zeros."
   ]
  },
  {
   "cell_type": "code",
   "execution_count": 619,
   "id": "43a7eea1-b849-4a56-9179-b3e92f265b3e",
   "metadata": {},
   "outputs": [],
   "source": [
    "zerothArr = np.zeros([3,4])"
   ]
  },
  {
   "cell_type": "code",
   "execution_count": 620,
   "id": "a51dae81-3006-4937-9257-bc31ff1a3e45",
   "metadata": {},
   "outputs": [
    {
     "name": "stdout",
     "output_type": "stream",
     "text": [
      "[[0. 0. 0. 0.]\n",
      " [0. 0. 0. 0.]\n",
      " [0. 0. 0. 0.]]\n"
     ]
    }
   ],
   "source": [
    "print(zerothArr)"
   ]
  },
  {
   "cell_type": "raw",
   "id": "d2d9cece-63ea-4ef0-b018-9a7ee612cdaf",
   "metadata": {},
   "source": [
    "## linspace -> This method takes params 1.Start num 2. End num 3. Total nums including start and the end num . The properties of this method is that the gap between the elements exactly same. "
   ]
  },
  {
   "cell_type": "code",
   "execution_count": 621,
   "id": "e8eb3da3-6ad6-4ea0-b748-7a6fa3059ae7",
   "metadata": {},
   "outputs": [],
   "source": [
    "equispaceArr = np.linspace(0,100,10) "
   ]
  },
  {
   "cell_type": "code",
   "execution_count": 622,
   "id": "c4e1ac0e-38b5-4e6b-8ee3-84803be5b10f",
   "metadata": {},
   "outputs": [
    {
     "name": "stdout",
     "output_type": "stream",
     "text": [
      "[  0.          11.11111111  22.22222222  33.33333333  44.44444444\n",
      "  55.55555556  66.66666667  77.77777778  88.88888889 100.        ]\n"
     ]
    }
   ],
   "source": [
    "print(equispaceArr)"
   ]
  },
  {
   "cell_type": "code",
   "execution_count": 623,
   "id": "f9e18910-ef6b-4fc5-a9b8-08e9dd4b8e08",
   "metadata": {},
   "outputs": [
    {
     "name": "stdout",
     "output_type": "stream",
     "text": [
      "33.33333333333333\n"
     ]
    }
   ],
   "source": [
    "print(equispaceArr[3])"
   ]
  },
  {
   "cell_type": "markdown",
   "id": "4041dcdd",
   "metadata": {},
   "source": [
    "## Empty Method "
   ]
  },
  {
   "cell_type": "markdown",
   "id": "199b9a6a",
   "metadata": {},
   "source": []
  },
  {
   "cell_type": "code",
   "execution_count": 624,
   "id": "73474bed",
   "metadata": {},
   "outputs": [],
   "source": [
    "## This method is used to made an array of given shape and size , the no of enteries are the random values. "
   ]
  },
  {
   "cell_type": "code",
   "execution_count": 625,
   "id": "b3904c2c",
   "metadata": {},
   "outputs": [],
   "source": [
    "emptyArr = np.empty((3,3),dtype=int)"
   ]
  },
  {
   "cell_type": "code",
   "execution_count": 626,
   "id": "6257ce3b",
   "metadata": {},
   "outputs": [
    {
     "name": "stdout",
     "output_type": "stream",
     "text": [
      "[[0 1 2]\n",
      " [3 4 5]\n",
      " [6 7 8]]\n"
     ]
    }
   ],
   "source": [
    "print(emptyArr)"
   ]
  },
  {
   "cell_type": "markdown",
   "id": "0a62c53a",
   "metadata": {},
   "source": [
    "## Linspace Method "
   ]
  },
  {
   "cell_type": "code",
   "execution_count": 627,
   "id": "76e479b2",
   "metadata": {},
   "outputs": [],
   "source": [
    "## This method is usually used to made an arr of enteries , in a given interval range and with an fixed constant space between them . "
   ]
  },
  {
   "cell_type": "code",
   "execution_count": 628,
   "id": "5442a6da",
   "metadata": {},
   "outputs": [],
   "source": [
    "## Parameters \n",
    "## Main Params 1. start-> Start interval 2. end -> End Interval 3. num =This params defines the total no of enteries.  \n",
    "## 4. restep= This is used to to return (samples , space b/w enteries ) if True . \n",
    "## as default False.  "
   ]
  },
  {
   "cell_type": "code",
   "execution_count": 629,
   "metadata": {},
   "outputs": [],
   "source": [
    "myLinspaceArr = np.linspace(21,45 ,5, retstep=True)"
   ]
  },
  {
   "cell_type": "code",
   "execution_count": 630,
   "id": "cf56e020",
   "metadata": {},
   "outputs": [
    {
     "name": "stdout",
     "output_type": "stream",
     "text": [
      "(array([21., 27., 33., 39., 45.]), 6.0)\n"
     ]
    }
   ],
   "source": [
    "print(myLinspaceArr)"
   ]
  },
  {
   "cell_type": "code",
   "execution_count": 631,
   "id": "9319fc32",
   "metadata": {},
   "outputs": [],
   "source": [
    "## Lets makes an identity matrix with the help of the method named identity . "
   ]
  },
  {
   "cell_type": "code",
   "execution_count": 632,
   "id": "229c23a6",
   "metadata": {},
   "outputs": [],
   "source": [
    "ideMatrix = np.identity(5)"
   ]
  },
  {
   "cell_type": "code",
   "execution_count": 633,
   "id": "5259a5ae",
   "metadata": {},
   "outputs": [
    {
     "name": "stdout",
     "output_type": "stream",
     "text": [
      "[[1. 0. 0. 0. 0.]\n",
      " [0. 1. 0. 0. 0.]\n",
      " [0. 0. 1. 0. 0.]\n",
      " [0. 0. 0. 1. 0.]\n",
      " [0. 0. 0. 0. 1.]]\n"
     ]
    }
   ],
   "source": [
    "print(ideMatrix)"
   ]
  },
  {
   "cell_type": "code",
   "execution_count": 634,
   "id": "2b7e9332",
   "metadata": {},
   "outputs": [],
   "source": [
    "## Arange method -- This method is mainly used to makes an array with the enteries (from 0 to n-1)"
   ]
  },
  {
   "cell_type": "code",
   "execution_count": 635,
   "metadata": {},
   "outputs": [
    {
     "name": "stdout",
     "output_type": "stream",
     "text": [
      "[ 0  1  2  3  4  5  6  7  8  9 10 11 12 13 14 15 16 17 18 19 20 21 22 23\n",
      " 24 25 26 27 28 29 30 31 32 33 34 35 36 37 38 39 40 41 42 43 44 45 46 47\n",
      " 48 49 50 51 52 53 54 55 56 57 58 59 60 61 62 63 64 65 66 67 68 69 70 71\n",
      " 72 73 74 75 76 77 78 79 80 81 82 83 84 85 86 87 88 89 90 91 92 93 94 95\n",
      " 96 97 98 99]\n"
     ]
    }
   ],
   "source": [
    "whole_num = np.arange(100)\n",
    "print(whole_num)"
   ]
  },
  {
   "cell_type": "code",
   "execution_count": 636,
   "id": "e5edb5f5",
   "metadata": {},
   "outputs": [
    {
     "name": "stdout",
     "output_type": "stream",
     "text": [
      "[[ 0  1  2  3  4  5  6  7  8  9 10 11 12 13 14 15 16 17 18 19 20 21 22 23\n",
      "  24]\n",
      " [25 26 27 28 29 30 31 32 33 34 35 36 37 38 39 40 41 42 43 44 45 46 47 48\n",
      "  49]\n",
      " [50 51 52 53 54 55 56 57 58 59 60 61 62 63 64 65 66 67 68 69 70 71 72 73\n",
      "  74]\n",
      " [75 76 77 78 79 80 81 82 83 84 85 86 87 88 89 90 91 92 93 94 95 96 97 98\n",
      "  99]]\n"
     ]
    }
   ],
   "source": [
    "## Reshape method --> It is generally used to creates an matrix with customize rows and columns but with the fixed elements of the exisisting array and also it is the temporary \n",
    "                    ## copy made which doesn't affects the orginal itself until you assigned into it. \n",
    "\n",
    "reshapeMatrix = whole_num.reshape(4,25)\n",
    "print(reshapeMatrix) "
   ]
  },
  {
   "cell_type": "code",
   "execution_count": 637,
   "id": "6ff88d7d",
   "metadata": {},
   "outputs": [
    {
     "name": "stdout",
     "output_type": "stream",
     "text": [
      "I am the reshape one  [[ 0  1  2  3]\n",
      " [ 4  5  6  7]\n",
      " [ 8  9 10 11]\n",
      " [12 13 14 15]\n",
      " [16 17 18 19]]\n",
      "\n",
      "I am the existing array : [ 0  1  2  3  4  5  6  7  8  9 10 11 12 13 14 15 16 17 18 19]\n"
     ]
    }
   ],
   "source": [
    "## The key difference between reshape and resize methods \n",
    "\n",
    "# reshape -> This method is used to temporarily change the shape of the array that's why the existing array itself is doesn't affected , until you assigned to the existing array itself to change it into an new one . \n",
    "# resize -> This method is changes the size of the array permenantely , means the array itself changes into an new rows and columns . \n",
    "\n",
    "n = np.arange(20)\n",
    "# n = n.reshape(5,4) ## Here, the existing arr changes as you assigned it into an existing one itself. \n",
    "# n.resize(4,5) \n",
    "reshape_arr = n.reshape(5,4) ## Here, it doesn't changes as it is assigned into an new var. \n",
    "print(f\"I am the reshape one  {reshape_arr}\\n\")\n",
    "print(f\"I am the existing array : {n}\")"
   ]
  },
  {
   "cell_type": "code",
   "execution_count": 638,
   "id": "692e2dfa",
   "metadata": {},
   "outputs": [
    {
     "name": "stdout",
     "output_type": "stream",
     "text": [
      "The array is : [1. 0. 0. 0. 0. 0. 1. 0. 0. 0. 0. 0. 1. 0. 0. 0. 0. 0. 1. 0. 0. 0. 0. 0.\n",
      " 1.] and it's shape is : (25,)\n"
     ]
    }
   ],
   "source": [
    "## Let's makes an 1-D array , the method for making the 1-D array is .ravel() .\n",
    "num_arr = np.identity(5)\n",
    "oned_arr = num_arr.ravel()\n",
    "print(f\"The array is : {oned_arr} and it's shape is : {oned_arr.shape}\")"
   ]
  },
  {
   "cell_type": "code",
   "execution_count": 639,
   "id": "f9d545b2",
   "metadata": {},
   "outputs": [
    {
     "name": "stdout",
     "output_type": "stream",
     "text": [
      "(3, 2)\n",
      "[ 1.   3.8  6.6  9.4 12.2 15. ]\n",
      "(6,)\n"
     ]
    }
   ],
   "source": [
    "equiArr = np.empty((3,2))\n",
    "oned_arr_2 = equiArr.ravel()\n",
    "print(equiArr.shape)\n",
    "print(oned_arr_2)\n",
    "print(oned_arr_2.shape)"
   ]
  },
  {
   "cell_type": "code",
   "execution_count": 640,
   "id": "dab9a8e3",
   "metadata": {},
   "outputs": [],
   "source": [
    "## Here, going to know about axis . mainly , 1D and 2D axis . \n",
    "\n",
    "## In 1D we have only one axis . So that should be known as axis 0.\n",
    "## In 2D we have only two axis, So that should be known as axis 0 and axis 1. \n",
    "## In conclusion #\n",
    "# 1D - 0 axis -> It's the sum of all the enteries in one row of the 1D array , In one d arr the axis 0 taken as the horizantal line . \n",
    "\n",
    "# 2D - 0 axis-> Sum of all the enteries of the columns in 2D array ,and  1 axis -> Sum of all the enteries of the rows in 2D array , In 2d arr\n",
    "##              the vertical line taken as axis 0 whereas , the horizantal line taken as axis 1. "
   ]
  },
  {
   "cell_type": "code",
   "execution_count": 641,
   "id": "bb644b19",
   "metadata": {},
   "outputs": [
    {
     "name": "stdout",
     "output_type": "stream",
     "text": [
      "[0 1 2 3 4 5]\n",
      "The no of dimensions of 1-d array is : 1\n",
      "15\n",
      "[[0 1 2]\n",
      " [3 4 5]]\n",
      "[ 3 12]\n"
     ]
    }
   ],
   "source": [
    "arr = np.arange(6)  ## 1 D array\n",
    "two_D_arr = arr.reshape(2,3) ## 2 D array. \n",
    "print(arr)\n",
    "print(f\"The no of dimensions of 1-d array is : {arr.ndim}\")\n",
    "print(arr.sum(axis=0))\n",
    "print(two_D_arr)\n",
    "print(two_D_arr.sum(axis=1))\n",
    "\n"
   ]
  },
  {
   "cell_type": "code",
   "execution_count": 642,
   "id": "58b35abe",
   "metadata": {},
   "outputs": [
    {
     "name": "stdout",
     "output_type": "stream",
     "text": [
      "[[0 3]\n",
      " [1 4]\n",
      " [2 5]]\n",
      "(3, 2)\n",
      "The no of dimensions of two-d array is: 2\n",
      "The max value of two-d array is: 5\n"
     ]
    }
   ],
   "source": [
    "## Transposing the 2D array . \n",
    "t_arr = two_D_arr.T\n",
    "print(t_arr)\n",
    "print(t_arr.shape)\n",
    "print(f\"The no of dimensions of two-d array is: {t_arr.ndim}\")\n",
    "print(f\"The max value of two-d array is: {two_D_arr.argmax()}\")\n"
   ]
  },
  {
   "cell_type": "code",
   "execution_count": 643,
   "id": "29b31536",
   "metadata": {},
   "outputs": [
    {
     "name": "stdout",
     "output_type": "stream",
     "text": [
      "[320  98 132  68]\n",
      "3\n",
      "0\n",
      "[3 1 2 0]\n"
     ]
    }
   ],
   "source": [
    "## argmax , argmin , argsort are used to determine the max , min values in the arr and sort out the array too. \n",
    "np_arr = [320 , 98 , 132 , 68]\n",
    "np_arr = np.array(np_arr)\n",
    "print(np_arr)\n",
    "print(np_arr.argmin())\n",
    "print(np_arr.argmax())\n",
    "print(np_arr.argsort())"
   ]
  },
  {
   "cell_type": "code",
   "execution_count": 644,
   "id": "d9a92813",
   "metadata": {},
   "outputs": [
    {
     "name": "stdout",
     "output_type": "stream",
     "text": [
      "[[ 20.  24.]\n",
      " [234.  32.]\n",
      " [ 36.  40.]]\n",
      "[[0 1]\n",
      " [1 0]\n",
      " [0 1]]\n"
     ]
    }
   ],
   "source": [
    "## 2d array \n",
    "arr_new = np.linspace(20,40,6 )\n",
    "two_d_arr_2 = arr_new.reshape(3,2)\n",
    "# print(two_d_arr_2)\n",
    "two_d_arr_2[1,0] = 234\n",
    "print(two_d_arr_2)\n",
    "# print(two_d_arr_2.argmax(axis=0))\n",
    "\n",
    "print(two_d_arr_2.argsort(axis=1))\n",
    "# print(two_d_arr_2.argsort(axis=0))"
   ]
  },
  {
   "cell_type": "code",
   "execution_count": 645,
   "id": "dca83b5b",
   "metadata": {},
   "outputs": [
    {
     "name": "stdout",
     "output_type": "stream",
     "text": [
      "[[ 1.   3.8]\n",
      " [ 6.6  9.4]\n",
      " [12.2 15. ]]\n"
     ]
    }
   ],
   "source": [
    "## Addition of matrices \n",
    "arr_1 = np.arange(6)\n",
    "arr_1 = arr_1.reshape(3,2)\n",
    "arr_2 = np.linspace(1,10,6)\n",
    "arr_2 = arr_2.reshape(3,2)\n",
    "\n",
    "\n",
    "add_matrix = arr_1 + arr_2\n",
    "print(add_matrix)"
   ]
  },
  {
   "cell_type": "code",
   "execution_count": 646,
   "id": "cc0acfaa",
   "metadata": {},
   "outputs": [
    {
     "name": "stdout",
     "output_type": "stream",
     "text": [
      "This is the sum of both the arrays: \n",
      "[[1. 1. 2.]\n",
      " [3. 5. 5.]\n",
      " [6. 7. 9.]]\n",
      "This is the multiplication of both the arrays: \n",
      "[[0. 0. 0.]\n",
      " [0. 4. 0.]\n",
      " [0. 0. 8.]]\n"
     ]
    }
   ],
   "source": [
    "## We can apply all the matrices operations in the numpy arr. \n",
    "\n",
    "num_py_arr = np.arange(9)\n",
    "num_py_arr = num_py_arr.reshape(3,3)\n",
    "# print(num_py_arr)\n",
    "\n",
    "ide_arr = np.identity(3)\n",
    "# print(ide_arr)\n",
    "\n",
    "numpy_arr_sum = num_py_arr + ide_arr\n",
    "print(f\"This is the sum of both the arrays: \\n{numpy_arr_sum}\")\n",
    "\n",
    "\n",
    "numpy_arr_sum = num_py_arr * ide_arr\n",
    "print(f\"This is the multiplication of both the arrays: \\n{numpy_arr_sum}\")\n",
    "\n"
   ]
  },
  {
   "cell_type": "code",
   "execution_count": 647,
   "id": "3e0475f7",
   "metadata": {},
   "outputs": [
    {
     "name": "stdout",
     "output_type": "stream",
     "text": [
      "[[0.         1.         1.41421356]\n",
      " [1.73205081 2.         2.23606798]\n",
      " [2.44948974 2.64575131 2.82842712]]\n"
     ]
    }
   ],
   "source": [
    "num_py_arr = np.sqrt(num_py_arr)\n",
    "print(num_py_arr)"
   ]
  },
  {
   "cell_type": "code",
   "execution_count": 648,
   "id": "d65be7aa",
   "metadata": {},
   "outputs": [
    {
     "name": "stdout",
     "output_type": "stream",
     "text": [
      "[[  1.   0.   0.]\n",
      " [231.   1.   0.]\n",
      " [  0.   0.   1.]]\n",
      "(array([1], dtype=int64), array([0], dtype=int64))\n"
     ]
    }
   ],
   "source": [
    "## We can also use .where() method which considered to follow some conditions\n",
    "\n",
    "ide_arr[1,0] = 231\n",
    "print(ide_arr)\n",
    "print(np.where(ide_arr>1)) \n",
    "\n",
    "## .where() -> Returns an tuple of the numpy_arr of the elements of rows and columns by follows some certain conditions. "
   ]
  },
  {
   "cell_type": "code",
   "execution_count": 649,
   "id": "6a4c289d",
   "metadata": {},
   "outputs": [
    {
     "name": "stdout",
     "output_type": "stream",
     "text": [
      "[[  1.   0.   0.]\n",
      " [231.   1.   0.]\n",
      " [  0.   0.   1.]]\n"
     ]
    },
    {
     "data": {
      "text/plain": [
       "(array([0, 1, 1, 2], dtype=int64), array([0, 0, 1, 2], dtype=int64))"
      ]
     },
     "execution_count": 649,
     "metadata": {},
     "output_type": "execute_result"
    }
   ],
   "source": [
    "# np.count_nonzero(ide_arr) ## It returns how many non-zero elements are present in the arr. \n",
    "print(ide_arr)\n",
    "np.nonzero(ide_arr)"
   ]
  },
  {
   "cell_type": "code",
   "execution_count": 650,
   "id": "b67106d5",
   "metadata": {},
   "outputs": [
    {
     "name": "stdout",
     "output_type": "stream",
     "text": [
      "The size of numpy Arr is : 24\n",
      "numpyarr size: 3\n",
      "numpyarr itemsize: 8\n",
      "The size of py Arr is : 84\n"
     ]
    }
   ],
   "source": [
    "## Python_arr v/s numpy_arr\n",
    "\n",
    "import sys \n",
    "\n",
    "numpyArr = np.linspace(10,40,3)\n",
    "pyArr = [23,12,34]\n",
    "\n",
    "numpy_arr_bitsize = numpyArr.itemsize * numpyArr.size\n",
    "py_arr_bitsize = sys.getsizeof(1) * len(pyArr)\n",
    "\n",
    "print(f\"The size of numpy Arr is : {numpy_arr_bitsize}\") \n",
    "print(f\"numpyarr size: {numpyArr.size}\")\n",
    "print(f\"numpyarr itemsize: {numpyArr.itemsize}\")\n",
    "print(f\"The size of py Arr is : {py_arr_bitsize}\")\n",
    "\n",
    "## That's the reason why we use numpyArr just see the difference. "
   ]
  }
 ],
 "metadata": {
  "kernelspec": {
   "display_name": "Python 3",
   "language": "python",
   "name": "python3"
  },
  "language_info": {
   "codemirror_mode": {
    "name": "ipython",
    "version": 3
   },
   "file_extension": ".py",
   "mimetype": "text/x-python",
   "name": "python",
   "nbconvert_exporter": "python",
   "pygments_lexer": "ipython3",
   "version": "3.11.4"
  }
 },
 "nbformat": 4,
 "nbformat_minor": 5
}
