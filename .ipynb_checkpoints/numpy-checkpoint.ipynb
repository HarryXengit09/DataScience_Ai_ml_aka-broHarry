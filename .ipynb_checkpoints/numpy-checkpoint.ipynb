{
 "cells": [
  {
   "cell_type": "code",
   "execution_count": null,
   "id": "849818a6-1ff7-4780-8668-0278c6393997",
   "metadata": {},
   "outputs": [],
   "source": [
    "## From here we're going to learnt about numpy library in python . "
   ]
  },
  {
   "cell_type": "code",
   "execution_count": 5,
   "id": "e25d7c3f-1caf-4e00-a8b4-2fd5608b8b4d",
   "metadata": {},
   "outputs": [],
   "source": [
    "import numpy as np"
   ]
  },
  {
   "cell_type": "code",
   "execution_count": 20,
   "id": "f6d764b8-0f39-441c-a365-275c8615b984",
   "metadata": {},
   "outputs": [],
   "source": [
    "numpyArr = np.array([(23,34,564,57,12)],np.int64)"
   ]
  },
  {
   "cell_type": "code",
   "execution_count": 24,
   "id": "56a94bf1-a133-4d81-934f-1c1cd2a7d2e3",
   "metadata": {},
   "outputs": [
    {
     "name": "stdout",
     "output_type": "stream",
     "text": [
      "57\n"
     ]
    }
   ],
   "source": [
    "print(numpyArr[0,3]) ## Here , we prints the first row and the 4th column \n",
    "                    ## This is an one dimn arr. "
   ]
  },
  {
   "cell_type": "code",
   "execution_count": 25,
   "id": "6c740f30-3938-495e-a904-c664e3e78321",
   "metadata": {},
   "outputs": [
    {
     "data": {
      "text/plain": [
       "(1, 5)"
      ]
     },
     "execution_count": 25,
     "metadata": {},
     "output_type": "execute_result"
    }
   ],
   "source": [
    "numpyArr.shape"
   ]
  },
  {
   "cell_type": "code",
   "execution_count": 29,
   "id": "52e3540e-3be5-4388-9566-21fea4a2acb1",
   "metadata": {},
   "outputs": [
    {
     "data": {
      "text/plain": [
       "5"
      ]
     },
     "execution_count": 29,
     "metadata": {},
     "output_type": "execute_result"
    }
   ],
   "source": [
    "numpyArr.size"
   ]
  },
  {
   "cell_type": "markdown",
   "id": "b98cf58e-b114-4bb8-b5f5-b6c11e30a781",
   "metadata": {},
   "source": [
    "## Array Creation Methods by using Numpy !!"
   ]
  },
  {
   "cell_type": "code",
   "execution_count": 47,
   "id": "9ab99973-34bc-4733-bbb3-4301ab2b00d2",
   "metadata": {},
   "outputs": [],
   "source": [
    "myArr = np.array([[12,234,45], [\"Kashish\" , \"Hirak\" , \"Sanu\"]]) ## This is an 2-D arr. It has 2 rows and 3 columns "
   ]
  },
  {
   "cell_type": "code",
   "execution_count": 40,
   "id": "a501e8e6-a61d-43c3-a38e-058e6936897c",
   "metadata": {},
   "outputs": [
    {
     "name": "stdout",
     "output_type": "stream",
     "text": [
      "Kashish meets Hirak\n"
     ]
    }
   ],
   "source": [
    "print(myArr[1,0] + \" meets \" + myArr[1,1])"
   ]
  },
  {
   "cell_type": "code",
   "execution_count": 48,
   "id": "495f5ca6-9aea-45ce-87fb-13f6e61a3e9d",
   "metadata": {},
   "outputs": [
    {
     "data": {
      "text/plain": [
       "(2, 3)"
      ]
     },
     "execution_count": 48,
     "metadata": {},
     "output_type": "execute_result"
    }
   ],
   "source": [
    "myArr.shape"
   ]
  },
  {
   "cell_type": "raw",
   "id": "1deedb66-34cb-4f88-80aa-b29abf9a26cb",
   "metadata": {},
   "source": [
    "## Zeroth Method -> It made an matrix of (n , m) elements of zeros."
   ]
  },
  {
   "cell_type": "code",
   "execution_count": 51,
   "id": "43a7eea1-b849-4a56-9179-b3e92f265b3e",
   "metadata": {},
   "outputs": [],
   "source": [
    "zerothArr = np.zeros([3,4])"
   ]
  },
  {
   "cell_type": "code",
   "execution_count": 52,
   "id": "a51dae81-3006-4937-9257-bc31ff1a3e45",
   "metadata": {},
   "outputs": [
    {
     "name": "stdout",
     "output_type": "stream",
     "text": [
      "[[0. 0. 0. 0.]\n",
      " [0. 0. 0. 0.]\n",
      " [0. 0. 0. 0.]]\n"
     ]
    }
   ],
   "source": [
    "print(zerothArr)"
   ]
  },
  {
   "cell_type": "raw",
   "id": "d2d9cece-63ea-4ef0-b018-9a7ee612cdaf",
   "metadata": {},
   "source": [
    "## linspace -> This method takes params 1.Start num 2. End num 3. Total nums including start and the end num .  The properties of this method is that the gap between the elements exactly same. "
   ]
  },
  {
   "cell_type": "code",
   "execution_count": 65,
   "id": "e8eb3da3-6ad6-4ea0-b748-7a6fa3059ae7",
   "metadata": {},
   "outputs": [],
   "source": [
    "equispaceArr = np.linspace(0,100,10) "
   ]
  },
  {
   "cell_type": "code",
   "execution_count": 66,
   "id": "c4e1ac0e-38b5-4e6b-8ee3-84803be5b10f",
   "metadata": {},
   "outputs": [
    {
     "name": "stdout",
     "output_type": "stream",
     "text": [
      "[  0.          11.11111111  22.22222222  33.33333333  44.44444444\n",
      "  55.55555556  66.66666667  77.77777778  88.88888889 100.        ]\n"
     ]
    }
   ],
   "source": [
    "print(equispaceArr)"
   ]
  },
  {
   "cell_type": "code",
   "execution_count": 67,
   "id": "f9e18910-ef6b-4fc5-a9b8-08e9dd4b8e08",
   "metadata": {},
   "outputs": [
    {
     "name": "stdout",
     "output_type": "stream",
     "text": [
      "33.33333333333333\n"
     ]
    }
   ],
   "source": [
    "print(equispaceArr[3])"
   ]
  }
 ],
 "metadata": {
  "kernelspec": {
   "display_name": "Python 3 (ipykernel)",
   "language": "python",
   "name": "python3"
  },
  "language_info": {
   "codemirror_mode": {
    "name": "ipython",
    "version": 3
   },
   "file_extension": ".py",
   "mimetype": "text/x-python",
   "name": "python",
   "nbconvert_exporter": "python",
   "pygments_lexer": "ipython3",
   "version": "3.11.4"
  }
 },
 "nbformat": 4,
 "nbformat_minor": 5
}
